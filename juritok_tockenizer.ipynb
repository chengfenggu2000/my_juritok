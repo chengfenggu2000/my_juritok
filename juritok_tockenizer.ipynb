{
 "cells": [
  {
   "cell_type": "code",
   "execution_count": 190,
   "id": "23d8457c-f8dc-4c47-b4aa-d6438b0cac01",
   "metadata": {},
   "outputs": [],
   "source": [
    "import re\n",
    "import os\n",
    "import pandas as pd\n",
    "import sentencepiece as spm"
   ]
  },
  {
   "cell_type": "code",
   "execution_count": 191,
   "id": "b69cbbd7-0022-40e2-a75f-957a4e71fd35",
   "metadata": {},
   "outputs": [
    {
     "data": {
      "text/plain": [
       "'C:\\\\Users\\\\23573\\\\my-repo\\\\my_juritok'"
      ]
     },
     "execution_count": 191,
     "metadata": {},
     "output_type": "execute_result"
    }
   ],
   "source": [
    "os.getcwd()"
   ]
  },
  {
   "cell_type": "code",
   "execution_count": 192,
   "id": "f5281e49-e09b-4ff3-84ea-f9c98470ac83",
   "metadata": {},
   "outputs": [],
   "source": [
    "path = \"./data/\"\n",
    "files = {year:path+f\"jorf_{year}.csv\" for year in [2019, 2020, 2021, 2022, 2023]}"
   ]
  },
  {
   "cell_type": "code",
   "execution_count": 193,
   "id": "410a5932-91d7-4ece-8dde-41f2f69a0bd7",
   "metadata": {},
   "outputs": [],
   "source": [
    "df_train = pd.read_csv(files[2019], sep='|', header=None)\n",
    "df_test = pd.read_csv(files[2020], sep='|', header=None)\n",
    "cols = ['JorfText', 'JorfArti', 'unknown_1', 'unknown_2', 'unknown_3', 'text']\n",
    "df_train.columns = cols\n",
    "df_test.columns = cols"
   ]
  },
  {
   "cell_type": "code",
   "execution_count": 194,
   "id": "ae2fb7c3-140d-4c14-a51f-fbb93c7bb02e",
   "metadata": {},
   "outputs": [],
   "source": [
    "df_train['text'].to_csv('jorf_train.txt', index=False, header=False)\n",
    "df_test['text'].to_csv('jorf_test.txt', index=False, header=False)"
   ]
  },
  {
   "cell_type": "code",
   "execution_count": 195,
   "id": "42d04843-046c-460b-b9ad-fdd885bab4fd",
   "metadata": {},
   "outputs": [],
   "source": [
    "# Train SentencePiece model\n",
    "spm.SentencePieceTrainer.train(input='jorf_train.txt', model_prefix='example_model', model_type='bpe', vocab_size=10000)\n",
    "sp = spm.SentencePieceProcessor(model_file='example_model.model') "
   ]
  },
  {
   "cell_type": "code",
   "execution_count": 196,
   "id": "f1f0aef1-fb57-4fd3-b8e3-bf9b266118aa",
   "metadata": {},
   "outputs": [],
   "source": [
    "# Test first 1000 Char of test data\n",
    "with open('jorf_test.txt', 'r', encoding='utf-8') as file:\n",
    "    text_data = file.read()[:1000]"
   ]
  },
  {
   "cell_type": "code",
   "execution_count": 197,
   "id": "12f83eeb-004b-4902-bf9f-552c556715a6",
   "metadata": {},
   "outputs": [
    {
     "name": "stdout",
     "output_type": "stream",
     "text": [
      "['▁fr', '/', 'lr', '/', 'decret', '/20', '20', '-1', '75', '5', '/20', '20', '-1', '2-31', '▁Décret', '▁n', '°', '▁2020', '-1', '75', '5', '▁du', '▁30', '▁décembre', '▁2020', '▁relatif', '▁à', '▁l', \"'\", 'entrée', '▁en', '▁vigueur', '▁immédiate', '▁de', '▁deux', '▁arrêtés', '▁En', 'tr', 'ent', '▁en', '▁vigueur', '▁immédiatement', '▁à', '▁compter', '▁de', '▁leur', '▁publication', '▁au', '▁Journal', '▁officiel', '▁de', '▁la', '▁République', '▁française', '▁les', '▁arrêtés', '▁suivants', '▁:', '▁\"—', '▁arrêté', '▁du', '▁29', '▁décembre', '▁2020', '▁portant', '▁homologation', '▁des', '▁règlements', '▁n', '°', '▁2020', '-01', '▁du', '▁9', '▁octobre', '▁2020,', '▁n', '°', '▁2020', '-02', '▁du', '▁5', '▁juin', '▁2020,', '▁n', '°', '▁2020', '-03', '▁du', '▁3', '▁juillet', '▁2020,', '▁n', '°', '▁2020', '-04', '▁du', '▁3', '▁juillet', '▁2020,', '▁n', '°', '▁2020', '-05', '▁du', '▁24', '▁juillet', '▁2020,', '▁n', '°', '▁2020', '-06', '▁du', '▁9', '▁octobre', '▁2020,', '▁n', '°', '▁2020', '-07', '▁du', '▁4', '▁décembre', '▁2020,', '▁n', '°', '▁2020', '-08', '▁du', '▁4', '▁décembre', '▁2020,', '▁n', '°', '▁2020', '-09', '▁du', '▁4', '▁décembre', '▁2020,', '▁n', '°', '▁2020', '-10', '▁du', '▁22', '▁décembre', '▁2020,', '▁n', '°', '▁2020', '-11', '▁du', '▁22', '▁décembre', '▁2020', '▁de', '▁l', \"'\", 'Autorité', '▁des', '▁normes', '▁comptables', '▁;\"', '▁—', '▁arrêté', '▁du', '▁30', '▁décembre', '▁2020', '▁modifiant', '▁l', \"'\", 'arrêté', '▁du', '▁10', '▁juillet', '▁2020', '▁prescri', 'vant', '▁les', '▁mesures', '▁d', \"'\", 'organisation', '▁et', '▁de', '▁fonctionnement', '▁du', '▁système', '▁de', '▁santé', '▁nécessaires', '▁pour', '▁faire', '▁face', '▁à', '▁l', \"'\", 'ép', 'id', 'émie', '▁de', '▁co', 'vi', 'd', '-19', '▁dans', '▁le', '▁cadre', '▁de', '▁l', \"'\", 'état', '▁d', \"'\", 'urgence', '▁sanitaire', '.', '▁Le', '▁présent', '▁décret', '▁sera', '▁publié', '▁au', '▁Journal', '▁officiel', '▁de']\n"
     ]
    }
   ],
   "source": [
    "sentence = text_data\n",
    "tokens = sp.encode_as_pieces(sentence)\n",
    "print(tokens)"
   ]
  },
  {
   "cell_type": "code",
   "execution_count": null,
   "id": "70a60b48-3b94-4985-a9b2-9e69e374866e",
   "metadata": {},
   "outputs": [],
   "source": []
  },
  {
   "cell_type": "code",
   "execution_count": null,
   "id": "0a2f1f5f-99ef-4fa1-aa26-cd29552625df",
   "metadata": {},
   "outputs": [],
   "source": []
  }
 ],
 "metadata": {
  "kernelspec": {
   "display_name": "Python 3 (ipykernel)",
   "language": "python",
   "name": "python3"
  },
  "language_info": {
   "codemirror_mode": {
    "name": "ipython",
    "version": 3
   },
   "file_extension": ".py",
   "mimetype": "text/x-python",
   "name": "python",
   "nbconvert_exporter": "python",
   "pygments_lexer": "ipython3",
   "version": "3.11.5"
  }
 },
 "nbformat": 4,
 "nbformat_minor": 5
}

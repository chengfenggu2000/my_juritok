{
 "cells": [
  {
   "cell_type": "code",
   "execution_count": 2,
   "id": "2486552e-3936-4360-afef-cf734c922f5e",
   "metadata": {},
   "outputs": [],
   "source": [
    "import sentencepiece as spm\n",
    "\n",
    "# Load your text data\n",
    "with open('test.txt', 'r', encoding='utf-8') as file:\n",
    "    text_data = file.read()\n",
    "\n",
    "# Train SentencePiece model\n",
    "spm.SentencePieceTrainer.train(input='test.txt', model_prefix='example_model', model_type='bpe', vocab_size=100)\n",
    "\n",
    "# Save the trained model\n",
    "sp = spm.SentencePieceProcessor(model_file='example_model.model')\n",
    "# sp.save('example_model.model')"
   ]
  },
  {
   "cell_type": "code",
   "execution_count": 5,
   "id": "bd1612e9-18f9-4052-b173-7c3c5ba89825",
   "metadata": {},
   "outputs": [
    {
     "data": {
      "text/plain": [
       "\"Hello, how are you today? This is a simple example for SentencePiece tokenization. Let's see how it works!\""
      ]
     },
     "execution_count": 5,
     "metadata": {},
     "output_type": "execute_result"
    }
   ],
   "source": [
    "text_data"
   ]
  },
  {
   "cell_type": "code",
   "execution_count": 8,
   "id": "4ba8b8d5-b137-473e-a16f-0758e0c64070",
   "metadata": {},
   "outputs": [
    {
     "name": "stdout",
     "output_type": "stream",
     "text": [
      "['▁This', '▁is', '▁a', '▁simple', '▁example', '▁s', 'ent', 'ence', '▁for', '▁token', 'ization', '.']\n"
     ]
    }
   ],
   "source": [
    "sentence = \"This is a simple example sentence for tokenization.\" # \"Wow, I will add something new.\"\n",
    "tokens = sp.encode_as_pieces(sentence)\n",
    "\n",
    "print(tokens)"
   ]
  },
  {
   "cell_type": "code",
   "execution_count": 10,
   "id": "61e4a7aa-6bc7-41ec-8e15-34f22585bb96",
   "metadata": {},
   "outputs": [
    {
     "name": "stdout",
     "output_type": "stream",
     "text": [
      "Help on class SentencePieceTrainer in module sentencepiece:\n",
      "\n",
      "class SentencePieceTrainer(builtins.object)\n",
      " |  SentencePieceTrainer(*args, **kwargs)\n",
      " |  \n",
      " |  Methods defined here:\n",
      " |  \n",
      " |  __init__(self, *args, **kwargs)\n",
      " |      Initialize self.  See help(type(self)) for accurate signature.\n",
      " |  \n",
      " |  __repr__ = _swig_repr(self)\n",
      " |  \n",
      " |  ----------------------------------------------------------------------\n",
      " |  Static methods defined here:\n",
      " |  \n",
      " |  Train(arg=None, logstream=None, **kwargs)\n",
      " |  \n",
      " |  train = Train(arg=None, logstream=None, **kwargs)\n",
      " |  \n",
      " |  ----------------------------------------------------------------------\n",
      " |  Data descriptors defined here:\n",
      " |  \n",
      " |  __dict__\n",
      " |      dictionary for instance variables (if defined)\n",
      " |  \n",
      " |  __weakref__\n",
      " |      list of weak references to the object (if defined)\n",
      " |  \n",
      " |  thisown\n",
      " |      The membership flag\n",
      "\n"
     ]
    }
   ],
   "source": [
    "help(spm.SentencePieceTrainer)"
   ]
  },
  {
   "cell_type": "code",
   "execution_count": null,
   "id": "3bbbf236-0141-4e7b-9f41-b883b14a54c4",
   "metadata": {},
   "outputs": [],
   "source": []
  }
 ],
 "metadata": {
  "kernelspec": {
   "display_name": "Python 3 (ipykernel)",
   "language": "python",
   "name": "python3"
  },
  "language_info": {
   "codemirror_mode": {
    "name": "ipython",
    "version": 3
   },
   "file_extension": ".py",
   "mimetype": "text/x-python",
   "name": "python",
   "nbconvert_exporter": "python",
   "pygments_lexer": "ipython3",
   "version": "3.11.5"
  }
 },
 "nbformat": 4,
 "nbformat_minor": 5
}
